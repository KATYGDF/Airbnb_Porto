{
 "cells": [
  {
   "cell_type": "markdown",
   "id": "60654b22",
   "metadata": {},
   "source": [
    "# Projeto Airbnb Porto -  Previsão de Preço de Imóvel "
   ]
  },
  {
   "cell_type": "markdown",
   "id": "89c5e3c2",
   "metadata": {},
   "source": [
    "## Base de dados\n",
    "\n",
    "Os dados foram obtidos no Inside Airbnb (http://insideairbnb.com). Este site fornece dados do Airbnb contendo conjuntos de dados extraídos de várias cidades ao redor do mundo onde O Airbnb está disponível. \n",
    "Coletamos o conjunto de dados (chamado listagens) com 75 variáveis 44569 observações das propriedades disponíveis no Plataforma Airbnb na cidade do Porto nos meses 12/2021, 03/2022, 06/2022 e 09/2022."
   ]
  },
  {
   "cell_type": "markdown",
   "id": "fec0d8d9",
   "metadata": {},
   "source": [
    "## Importação das bibliotecas"
   ]
  },
  {
   "cell_type": "code",
   "execution_count": 1,
   "id": "a91360b9",
   "metadata": {},
   "outputs": [],
   "source": [
    "import pandas as pd\n",
    "import pathlib\n",
    "import numpy as np\n",
    "import seaborn as sns\n",
    "import matplotlib.pyplot as plt\n",
    "import plotly.express as px\n",
    "from sklearn.metrics import r2_score, mean_squared_error\n",
    "from sklearn.linear_model import LinearRegression\n",
    "from sklearn.ensemble import RandomForestRegressor, ExtraTreesRegressor\n",
    "from sklearn.model_selection import train_test_split"
   ]
  },
  {
   "cell_type": "markdown",
   "id": "d91e8fcf",
   "metadata": {},
   "source": [
    "## Importação dos arquivos"
   ]
  },
  {
   "cell_type": "code",
   "execution_count": 20,
   "id": "da144909",
   "metadata": {},
   "outputs": [
    {
     "data": {
      "text/html": [
       "<div>\n",
       "<style scoped>\n",
       "    .dataframe tbody tr th:only-of-type {\n",
       "        vertical-align: middle;\n",
       "    }\n",
       "\n",
       "    .dataframe tbody tr th {\n",
       "        vertical-align: top;\n",
       "    }\n",
       "\n",
       "    .dataframe thead th {\n",
       "        text-align: right;\n",
       "    }\n",
       "</style>\n",
       "<table border=\"1\" class=\"dataframe\">\n",
       "  <thead>\n",
       "    <tr style=\"text-align: right;\">\n",
       "      <th></th>\n",
       "      <th>id</th>\n",
       "      <th>listing_url</th>\n",
       "      <th>scrape_id</th>\n",
       "      <th>last_scraped</th>\n",
       "      <th>name</th>\n",
       "      <th>description</th>\n",
       "      <th>neighborhood_overview</th>\n",
       "      <th>picture_url</th>\n",
       "      <th>host_id</th>\n",
       "      <th>host_url</th>\n",
       "      <th>...</th>\n",
       "      <th>review_scores_location</th>\n",
       "      <th>review_scores_value</th>\n",
       "      <th>license</th>\n",
       "      <th>instant_bookable</th>\n",
       "      <th>calculated_host_listings_count</th>\n",
       "      <th>calculated_host_listings_count_entire_homes</th>\n",
       "      <th>calculated_host_listings_count_private_rooms</th>\n",
       "      <th>calculated_host_listings_count_shared_rooms</th>\n",
       "      <th>reviews_per_month</th>\n",
       "      <th>source</th>\n",
       "    </tr>\n",
       "  </thead>\n",
       "  <tbody>\n",
       "    <tr>\n",
       "      <th>0</th>\n",
       "      <td>41339</td>\n",
       "      <td>https://www.airbnb.com/rooms/41339</td>\n",
       "      <td>20211208225259</td>\n",
       "      <td>2021-12-09</td>\n",
       "      <td>Porto city flat near the sea</td>\n",
       "      <td>Here you'll find all you need for your holiday...</td>\n",
       "      <td>In the surrounds you have Serralves Museum and...</td>\n",
       "      <td>https://a0.muscache.com/pictures/25727334/9578...</td>\n",
       "      <td>180050</td>\n",
       "      <td>https://www.airbnb.com/users/show/180050</td>\n",
       "      <td>...</td>\n",
       "      <td>4.47</td>\n",
       "      <td>4.59</td>\n",
       "      <td>29049/AL</td>\n",
       "      <td>t</td>\n",
       "      <td>1</td>\n",
       "      <td>1</td>\n",
       "      <td>0</td>\n",
       "      <td>0</td>\n",
       "      <td>0.16</td>\n",
       "      <td>NaN</td>\n",
       "    </tr>\n",
       "    <tr>\n",
       "      <th>1</th>\n",
       "      <td>55111</td>\n",
       "      <td>https://www.airbnb.com/rooms/55111</td>\n",
       "      <td>20211208225259</td>\n",
       "      <td>2021-12-09</td>\n",
       "      <td>Fontielas Houses |Floor1 in House with shared ...</td>\n",
       "      <td>First Floor in House with shared Swimingpool a...</td>\n",
       "      <td>NaN</td>\n",
       "      <td>https://a0.muscache.com/pictures/b3c38006-5fdf...</td>\n",
       "      <td>259711</td>\n",
       "      <td>https://www.airbnb.com/users/show/259711</td>\n",
       "      <td>...</td>\n",
       "      <td>4.77</td>\n",
       "      <td>4.77</td>\n",
       "      <td>7563/AL</td>\n",
       "      <td>f</td>\n",
       "      <td>3</td>\n",
       "      <td>3</td>\n",
       "      <td>0</td>\n",
       "      <td>0</td>\n",
       "      <td>0.18</td>\n",
       "      <td>NaN</td>\n",
       "    </tr>\n",
       "    <tr>\n",
       "      <th>2</th>\n",
       "      <td>73828</td>\n",
       "      <td>https://www.airbnb.com/rooms/73828</td>\n",
       "      <td>20211208225259</td>\n",
       "      <td>2021-12-09</td>\n",
       "      <td>Fontielas Houses |Floor0 in House with shared ...</td>\n",
       "      <td>Piso no rés-do-chão em moradia com piscina par...</td>\n",
       "      <td>NaN</td>\n",
       "      <td>https://a0.muscache.com/pictures/ffb19299-425c...</td>\n",
       "      <td>259711</td>\n",
       "      <td>https://www.airbnb.com/users/show/259711</td>\n",
       "      <td>...</td>\n",
       "      <td>4.88</td>\n",
       "      <td>4.63</td>\n",
       "      <td>7563/AL</td>\n",
       "      <td>f</td>\n",
       "      <td>3</td>\n",
       "      <td>3</td>\n",
       "      <td>0</td>\n",
       "      <td>0</td>\n",
       "      <td>0.10</td>\n",
       "      <td>NaN</td>\n",
       "    </tr>\n",
       "    <tr>\n",
       "      <th>3</th>\n",
       "      <td>86388</td>\n",
       "      <td>https://www.airbnb.com/rooms/86388</td>\n",
       "      <td>20211208225259</td>\n",
       "      <td>2021-12-09</td>\n",
       "      <td>A Formosa - a nest made for two</td>\n",
       "      <td>&lt;b&gt;The space&lt;/b&gt;&lt;br /&gt;A  big and bright bedroo...</td>\n",
       "      <td>NaN</td>\n",
       "      <td>https://a0.muscache.com/pictures/850099/b80470...</td>\n",
       "      <td>185209</td>\n",
       "      <td>https://www.airbnb.com/users/show/185209</td>\n",
       "      <td>...</td>\n",
       "      <td>4.84</td>\n",
       "      <td>4.77</td>\n",
       "      <td>6995/AL</td>\n",
       "      <td>f</td>\n",
       "      <td>7</td>\n",
       "      <td>1</td>\n",
       "      <td>6</td>\n",
       "      <td>0</td>\n",
       "      <td>1.14</td>\n",
       "      <td>NaN</td>\n",
       "    </tr>\n",
       "    <tr>\n",
       "      <th>4</th>\n",
       "      <td>87873</td>\n",
       "      <td>https://www.airbnb.com/rooms/87873</td>\n",
       "      <td>20211208225259</td>\n",
       "      <td>2021-12-09</td>\n",
       "      <td>Oporto Apartment Triplex</td>\n",
       "      <td>- Cozy apartment with great sun exposition&lt;br ...</td>\n",
       "      <td>OPorto Apartment Triplex is located on Rua San...</td>\n",
       "      <td>https://a0.muscache.com/pictures/33686513/c54f...</td>\n",
       "      <td>480980</td>\n",
       "      <td>https://www.airbnb.com/users/show/480980</td>\n",
       "      <td>...</td>\n",
       "      <td>4.52</td>\n",
       "      <td>4.86</td>\n",
       "      <td>634/AL</td>\n",
       "      <td>f</td>\n",
       "      <td>3</td>\n",
       "      <td>1</td>\n",
       "      <td>2</td>\n",
       "      <td>0</td>\n",
       "      <td>1.65</td>\n",
       "      <td>NaN</td>\n",
       "    </tr>\n",
       "  </tbody>\n",
       "</table>\n",
       "<p>5 rows × 75 columns</p>\n",
       "</div>"
      ],
      "text/plain": [
       "      id                         listing_url       scrape_id last_scraped  \\\n",
       "0  41339  https://www.airbnb.com/rooms/41339  20211208225259   2021-12-09   \n",
       "1  55111  https://www.airbnb.com/rooms/55111  20211208225259   2021-12-09   \n",
       "2  73828  https://www.airbnb.com/rooms/73828  20211208225259   2021-12-09   \n",
       "3  86388  https://www.airbnb.com/rooms/86388  20211208225259   2021-12-09   \n",
       "4  87873  https://www.airbnb.com/rooms/87873  20211208225259   2021-12-09   \n",
       "\n",
       "                                                name  \\\n",
       "0                       Porto city flat near the sea   \n",
       "1  Fontielas Houses |Floor1 in House with shared ...   \n",
       "2  Fontielas Houses |Floor0 in House with shared ...   \n",
       "3                    A Formosa - a nest made for two   \n",
       "4                           Oporto Apartment Triplex   \n",
       "\n",
       "                                         description  \\\n",
       "0  Here you'll find all you need for your holiday...   \n",
       "1  First Floor in House with shared Swimingpool a...   \n",
       "2  Piso no rés-do-chão em moradia com piscina par...   \n",
       "3  <b>The space</b><br />A  big and bright bedroo...   \n",
       "4  - Cozy apartment with great sun exposition<br ...   \n",
       "\n",
       "                               neighborhood_overview  \\\n",
       "0  In the surrounds you have Serralves Museum and...   \n",
       "1                                                NaN   \n",
       "2                                                NaN   \n",
       "3                                                NaN   \n",
       "4  OPorto Apartment Triplex is located on Rua San...   \n",
       "\n",
       "                                         picture_url  host_id  \\\n",
       "0  https://a0.muscache.com/pictures/25727334/9578...   180050   \n",
       "1  https://a0.muscache.com/pictures/b3c38006-5fdf...   259711   \n",
       "2  https://a0.muscache.com/pictures/ffb19299-425c...   259711   \n",
       "3  https://a0.muscache.com/pictures/850099/b80470...   185209   \n",
       "4  https://a0.muscache.com/pictures/33686513/c54f...   480980   \n",
       "\n",
       "                                   host_url  ... review_scores_location  \\\n",
       "0  https://www.airbnb.com/users/show/180050  ...                   4.47   \n",
       "1  https://www.airbnb.com/users/show/259711  ...                   4.77   \n",
       "2  https://www.airbnb.com/users/show/259711  ...                   4.88   \n",
       "3  https://www.airbnb.com/users/show/185209  ...                   4.84   \n",
       "4  https://www.airbnb.com/users/show/480980  ...                   4.52   \n",
       "\n",
       "  review_scores_value   license instant_bookable  \\\n",
       "0                4.59  29049/AL                t   \n",
       "1                4.77   7563/AL                f   \n",
       "2                4.63   7563/AL                f   \n",
       "3                4.77   6995/AL                f   \n",
       "4                4.86    634/AL                f   \n",
       "\n",
       "  calculated_host_listings_count calculated_host_listings_count_entire_homes  \\\n",
       "0                              1                                           1   \n",
       "1                              3                                           3   \n",
       "2                              3                                           3   \n",
       "3                              7                                           1   \n",
       "4                              3                                           1   \n",
       "\n",
       "  calculated_host_listings_count_private_rooms  \\\n",
       "0                                            0   \n",
       "1                                            0   \n",
       "2                                            0   \n",
       "3                                            6   \n",
       "4                                            2   \n",
       "\n",
       "  calculated_host_listings_count_shared_rooms reviews_per_month source  \n",
       "0                                           0              0.16    NaN  \n",
       "1                                           0              0.18    NaN  \n",
       "2                                           0              0.10    NaN  \n",
       "3                                           0              1.14    NaN  \n",
       "4                                           0              1.65    NaN  \n",
       "\n",
       "[5 rows x 75 columns]"
      ]
     },
     "metadata": {},
     "output_type": "display_data"
    }
   ],
   "source": [
    "caminho_bases = pathlib.Path('dataset')\n",
    "\n",
    "base_airbnb = pd.DataFrame()\n",
    "\n",
    "for arquivo in caminho_bases.iterdir():\n",
    "    df = pd.read_csv(caminho_bases / arquivo.name)\n",
    "    base_airbnb = base_airbnb.append(df)\n",
    "    \n",
    "display(base_airbnb.head())"
   ]
  },
  {
   "cell_type": "code",
   "execution_count": 166,
   "id": "60a48d98",
   "metadata": {},
   "outputs": [
    {
     "name": "stdout",
     "output_type": "stream",
     "text": [
      "(44569, 75)\n"
     ]
    }
   ],
   "source": [
    "print(base_airbnb.shape)"
   ]
  },
  {
   "cell_type": "code",
   "execution_count": 119,
   "id": "347b409d",
   "metadata": {},
   "outputs": [
    {
     "name": "stdout",
     "output_type": "stream",
     "text": [
      "['id', 'listing_url', 'scrape_id', 'last_scraped', 'name', 'description', 'neighborhood_overview', 'picture_url', 'host_id', 'host_url', 'host_name', 'host_since', 'host_location', 'host_about', 'host_response_time', 'host_response_rate', 'host_acceptance_rate', 'host_is_superhost', 'host_thumbnail_url', 'host_picture_url', 'host_neighbourhood', 'host_listings_count', 'host_total_listings_count', 'host_verifications', 'host_has_profile_pic', 'host_identity_verified', 'neighbourhood', 'neighbourhood_cleansed', 'neighbourhood_group_cleansed', 'latitude', 'longitude', 'property_type', 'room_type', 'accommodates', 'bathrooms', 'bathrooms_text', 'bedrooms', 'beds', 'amenities', 'price', 'minimum_nights', 'maximum_nights', 'minimum_minimum_nights', 'maximum_minimum_nights', 'minimum_maximum_nights', 'maximum_maximum_nights', 'minimum_nights_avg_ntm', 'maximum_nights_avg_ntm', 'calendar_updated', 'has_availability', 'availability_30', 'availability_60', 'availability_90', 'availability_365', 'calendar_last_scraped', 'number_of_reviews', 'number_of_reviews_ltm', 'number_of_reviews_l30d', 'first_review', 'last_review', 'review_scores_rating', 'review_scores_accuracy', 'review_scores_cleanliness', 'review_scores_checkin', 'review_scores_communication', 'review_scores_location', 'review_scores_value', 'license', 'instant_bookable', 'calculated_host_listings_count', 'calculated_host_listings_count_entire_homes', 'calculated_host_listings_count_private_rooms', 'calculated_host_listings_count_shared_rooms', 'reviews_per_month', 'source']\n"
     ]
    }
   ],
   "source": [
    "print(list(base_airbnb.columns))"
   ]
  },
  {
   "cell_type": "markdown",
   "id": "f599b4f4",
   "metadata": {},
   "source": [
    "## Escolha das colunas \n",
    "\n",
    "O grande número de colunas dificulta a análise e uma breve análise qualitativa indica que podemos reduzir significativamente este número o que tornará mais simples a manipulação da base de dados.\n",
    "Vamos eliminar as colunas do tipo:\n",
    "1. Nomes e Links;\n",
    "2. Colunas duplicadas;\n",
    "3. Colunas preenchidas com texto livre; e\n",
    "4. Colunas em que todos ou quase todos os valores são iguais.\n",
    "\n",
    "Para realização da análise qualitativa vamos exportar primeiras 1000 linhas do arquivo e então decidir quais colunas podem ser eliminadas."
   ]
  },
  {
   "cell_type": "code",
   "execution_count": 3,
   "id": "316ff037",
   "metadata": {},
   "outputs": [],
   "source": [
    "base_airbnb.head(1000).to_csv('primeiros_registros.csv', sep=';')"
   ]
  },
  {
   "cell_type": "markdown",
   "id": "c523ab5c",
   "metadata": {},
   "source": [
    "\n",
    "Após análise qualitativa das colunas, levando em conta os critérios explicados acima, ficamos as seguintes colunas:\n"
   ]
  },
  {
   "cell_type": "code",
   "execution_count": 21,
   "id": "e5fa983f",
   "metadata": {},
   "outputs": [
    {
     "name": "stdout",
     "output_type": "stream",
     "text": [
      "Colunas restantes: 25\n"
     ]
    }
   ],
   "source": [
    "colunas = ['id','last_scraped','host_response_time','host_response_rate','host_acceptance_rate','host_is_superhost','latitude','longitude','property_type','accommodates','bedrooms','beds','amenities','price','minimum_nights','maximum_nights','number_of_reviews','review_scores_rating','review_scores_accuracy','review_scores_cleanliness','review_scores_checkin','review_scores_communication','review_scores_location','review_scores_value','reviews_per_month']\n",
    "base_airbnb = base_airbnb.loc[:, colunas]\n",
    "print('Colunas restantes: {}'.format(base_airbnb.shape[1]))"
   ]
  },
  {
   "cell_type": "markdown",
   "id": "1460d9b0",
   "metadata": {},
   "source": [
    "## Análise dos valores faltantes\n",
    "\n",
    "Dentre as colunas selecionadas, observa-se volume significativo de informações nulas de forma que optamos por excluir as colunas em que mais de 10% das linhas possuem valores nulos"
   ]
  },
  {
   "cell_type": "code",
   "execution_count": 22,
   "id": "e8d18f4e",
   "metadata": {},
   "outputs": [
    {
     "name": "stdout",
     "output_type": "stream",
     "text": [
      "id                                0\n",
      "last_scraped                      0\n",
      "host_response_time             9202\n",
      "host_response_rate             9202\n",
      "host_acceptance_rate           7824\n",
      "host_is_superhost                 6\n",
      "latitude                          0\n",
      "longitude                         0\n",
      "property_type                     0\n",
      "accommodates                      0\n",
      "bedrooms                       4476\n",
      "beds                            585\n",
      "amenities                         0\n",
      "price                             0\n",
      "minimum_nights                    0\n",
      "maximum_nights                    0\n",
      "number_of_reviews                 0\n",
      "review_scores_rating           5868\n",
      "review_scores_accuracy         6059\n",
      "review_scores_cleanliness      6052\n",
      "review_scores_checkin          6065\n",
      "review_scores_communication    6059\n",
      "review_scores_location         6065\n",
      "review_scores_value            6068\n",
      "reviews_per_month              5868\n",
      "dtype: int64\n",
      "Número de colunas: 25\n",
      "------------------------------------------------------------\n",
      "id                     0\n",
      "last_scraped           0\n",
      "host_is_superhost      6\n",
      "latitude               0\n",
      "longitude              0\n",
      "property_type          0\n",
      "accommodates           0\n",
      "beds                 585\n",
      "amenities              0\n",
      "price                  0\n",
      "minimum_nights         0\n",
      "maximum_nights         0\n",
      "number_of_reviews      0\n",
      "dtype: int64\n",
      "Colunas restantes: 13\n"
     ]
    }
   ],
   "source": [
    "print(base_airbnb.isnull().sum())\n",
    "print('Número de colunas: {}'.format(base_airbnb.shape[1]))\n",
    "print('-'*60)\n",
    "for coluna in base_airbnb:\n",
    "    if base_airbnb[coluna].isnull().sum() > (0.1*base_airbnb.shape[0]):\n",
    "        base_airbnb = base_airbnb.drop(coluna, axis=1)\n",
    "print(base_airbnb.isnull().sum())\n",
    "print('Colunas restantes: {}'.format(base_airbnb.shape[1]))"
   ]
  },
  {
   "cell_type": "markdown",
   "id": "f1621390",
   "metadata": {},
   "source": [
    "Agora vamos excluir as linhas nulas que sobraram:"
   ]
  },
  {
   "cell_type": "code",
   "execution_count": 23,
   "id": "b0783518",
   "metadata": {},
   "outputs": [
    {
     "name": "stdout",
     "output_type": "stream",
     "text": [
      "Por fim, ficamos com 13 colunas e 43978 linhas\n"
     ]
    }
   ],
   "source": [
    "base_airbnb = base_airbnb.dropna()\n",
    "print('Por fim, ficamos com {} colunas e {} linhas'.format(base_airbnb.shape[1], base_airbnb.shape[0]))"
   ]
  },
  {
   "cell_type": "markdown",
   "id": "1316fa3a",
   "metadata": {},
   "source": [
    "## Tratamento dos dados"
   ]
  },
  {
   "cell_type": "code",
   "execution_count": 44,
   "id": "5937be09",
   "metadata": {},
   "outputs": [
    {
     "name": "stdout",
     "output_type": "stream",
     "text": [
      "id                     int64\n",
      "last_scraped          object\n",
      "host_is_superhost     object\n",
      "latitude             float64\n",
      "longitude            float64\n",
      "property_type         object\n",
      "accommodates           int64\n",
      "beds                 float64\n",
      "amenities             object\n",
      "price                 object\n",
      "minimum_nights         int64\n",
      "maximum_nights         int64\n",
      "number_of_reviews      int64\n",
      "dtype: object\n",
      "------------------------------------------------------------\n",
      "id                                                               41339\n",
      "last_scraped                                                2021-12-09\n",
      "host_is_superhost                                                    f\n",
      "latitude                                                       41.1501\n",
      "longitude                                                     -8.66035\n",
      "property_type                                       Entire rental unit\n",
      "accommodates                                                         5\n",
      "beds                                                               3.0\n",
      "amenities            [\"Hangers\", \"Oven\", \"Iron\", \"Microwave\", \"Kitc...\n",
      "price                                                           $75.00\n",
      "minimum_nights                                                       5\n",
      "maximum_nights                                                     120\n",
      "number_of_reviews                                                   17\n",
      "Name: 0, dtype: object\n"
     ]
    }
   ],
   "source": [
    "base_airbnb_trat = base_airbnb.copy()\n",
    "print(base_airbnb_trat.dtypes)\n",
    "print('-'*60)\n",
    "print(base_airbnb_trat.iloc[0])"
   ]
  },
  {
   "cell_type": "markdown",
   "id": "f0772c72",
   "metadata": {},
   "source": [
    "### - price\n",
    "\n",
    "A varíavel preço é nossa variável resposta e é contínua, por isso, temos que remover o $ e transforma-la para o tipo float.\n"
   ]
  },
  {
   "cell_type": "code",
   "execution_count": 45,
   "id": "2c26483f",
   "metadata": {},
   "outputs": [
    {
     "name": "stdout",
     "output_type": "stream",
     "text": [
      "id                     int64\n",
      "last_scraped          object\n",
      "host_is_superhost     object\n",
      "latitude             float64\n",
      "longitude            float64\n",
      "property_type         object\n",
      "accommodates           int64\n",
      "beds                 float64\n",
      "amenities             object\n",
      "price                float32\n",
      "minimum_nights         int64\n",
      "maximum_nights         int64\n",
      "number_of_reviews      int64\n",
      "dtype: object\n",
      "------------------------------------------------------------\n",
      "id                                                               41339\n",
      "last_scraped                                                2021-12-09\n",
      "host_is_superhost                                                    f\n",
      "latitude                                                       41.1501\n",
      "longitude                                                     -8.66035\n",
      "property_type                                       Entire rental unit\n",
      "accommodates                                                         5\n",
      "beds                                                               3.0\n",
      "amenities            [\"Hangers\", \"Oven\", \"Iron\", \"Microwave\", \"Kitc...\n",
      "price                                                             75.0\n",
      "minimum_nights                                                       5\n",
      "maximum_nights                                                     120\n",
      "number_of_reviews                                                   17\n",
      "Name: 0, dtype: object\n"
     ]
    },
    {
     "name": "stderr",
     "output_type": "stream",
     "text": [
      "C:\\Users\\user\\AppData\\Local\\Temp/ipykernel_2340/2260460192.py:1: FutureWarning: The default value of regex will change from True to False in a future version. In addition, single character regular expressions will *not* be treated as literal strings when regex=True.\n",
      "  base_airbnb_trat['price'] = base_airbnb_trat['price'].str.replace('$', '')\n"
     ]
    }
   ],
   "source": [
    "base_airbnb_trat['price'] = base_airbnb_trat['price'].str.replace('$', '')\n",
    "base_airbnb_trat['price'] = base_airbnb_trat['price'].str.replace(',', '')\n",
    "base_airbnb_trat['price'] = base_airbnb_trat['price'].astype(np.float32, copy=False)\n",
    "print(base_airbnb_trat.dtypes)\n",
    "print('-'*60)\n",
    "print(base_airbnb_trat.iloc[0])"
   ]
  },
  {
   "cell_type": "markdown",
   "id": "c8b55a28",
   "metadata": {},
   "source": [
    "### - last_scraped\n",
    "\n",
    "Esta variável indica o mês em que o dado foi coletado no site do Airbnb. Também vamos criar uma variável com a informação do mês e ano."
   ]
  },
  {
   "cell_type": "code",
   "execution_count": 46,
   "id": "50c1d142",
   "metadata": {},
   "outputs": [
    {
     "name": "stdout",
     "output_type": "stream",
     "text": [
      "id                            int64\n",
      "last_scraped         datetime64[ns]\n",
      "host_is_superhost            object\n",
      "latitude                    float64\n",
      "longitude                   float64\n",
      "property_type                object\n",
      "accommodates                  int64\n",
      "beds                        float64\n",
      "amenities                    object\n",
      "price                       float32\n",
      "minimum_nights                int64\n",
      "maximum_nights                int64\n",
      "number_of_reviews             int64\n",
      "mes_ano                      object\n",
      "dtype: object\n",
      "------------------------------------------------------------\n",
      "id                                                               41339\n",
      "last_scraped                                       2021-12-09 00:00:00\n",
      "host_is_superhost                                                    f\n",
      "latitude                                                       41.1501\n",
      "longitude                                                     -8.66035\n",
      "property_type                                       Entire rental unit\n",
      "accommodates                                                         5\n",
      "beds                                                               3.0\n",
      "amenities            [\"Hangers\", \"Oven\", \"Iron\", \"Microwave\", \"Kitc...\n",
      "price                                                             75.0\n",
      "minimum_nights                                                       5\n",
      "maximum_nights                                                     120\n",
      "number_of_reviews                                                   17\n",
      "mes_ano                                                        12/2021\n",
      "Name: 0, dtype: object\n"
     ]
    }
   ],
   "source": [
    "base_airbnb_trat['last_scraped'] = pd.to_datetime(base_airbnb_trat['last_scraped'], errors='coerce', format='%Y-%m-%d')\n",
    "base_airbnb_trat['mes_ano'] = base_airbnb_trat['last_scraped'].dt.strftime('%m/%Y')\n",
    "print(base_airbnb_trat.dtypes)\n",
    "print('-'*60)\n",
    "print(base_airbnb_trat.iloc[0])"
   ]
  },
  {
   "cell_type": "markdown",
   "id": "99cd3384",
   "metadata": {},
   "source": [
    "### - host_is_superhost\n",
    "Por ser uma variável boleana vamos substituir True ou False, vamos substituir True por 1 e False por 0 respectivamente."
   ]
  },
  {
   "cell_type": "code",
   "execution_count": 47,
   "id": "a39be2f6",
   "metadata": {},
   "outputs": [
    {
     "name": "stdout",
     "output_type": "stream",
     "text": [
      "f    30337\n",
      "t    13641\n",
      "Name: host_is_superhost, dtype: int64\n",
      "0    30337\n",
      "1    13641\n",
      "Name: host_is_superhost, dtype: int64\n"
     ]
    }
   ],
   "source": [
    "print(base_airbnb_trat['host_is_superhost'].value_counts())\n",
    "base_airbnb_trat.loc[base_airbnb_trat.host_is_superhost=='t', 'host_is_superhost']=1\n",
    "base_airbnb_trat.loc[base_airbnb_trat.host_is_superhost=='f', 'host_is_superhost']=0\n",
    "print(base_airbnb_trat['host_is_superhost'].value_counts())"
   ]
  },
  {
   "cell_type": "markdown",
   "id": "d0dad329",
   "metadata": {},
   "source": [
    "### - property_type\n",
    "\n"
   ]
  },
  {
   "cell_type": "code",
   "execution_count": 48,
   "id": "68a6188e",
   "metadata": {},
   "outputs": [
    {
     "name": "stdout",
     "output_type": "stream",
     "text": [
      "0    30337\n",
      "1    13641\n",
      "Name: host_is_superhost, dtype: int64\n"
     ]
    }
   ],
   "source": [
    "print(base_airbnb_trat['host_is_superhost'].value_counts())"
   ]
  },
  {
   "cell_type": "code",
   "execution_count": 49,
   "id": "33f4af7a",
   "metadata": {},
   "outputs": [
    {
     "data": {
      "image/png": "[encoded data removed]",
      "text/plain": [
       "<Figure size 1080x360 with 1 Axes>"
      ]
     },
     "metadata": {
      "needs_background": "light"
     },
     "output_type": "display_data"
    }
   ],
   "source": [
    "property_type=base_airbnb_trat['property_type'].value_counts()\n",
    "\n",
    "plt.figure(figsize=(15, 5))\n",
    "grafico = sns.countplot(x='property_type', data=base_airbnb_trat, order = base_airbnb_trat['property_type'].value_counts().index)\n",
    "grafico.tick_params(axis='x', rotation=90)"
   ]
  },
  {
   "cell_type": "markdown",
   "id": "c6cb1c36",
   "metadata": {},
   "source": [
    "Como temos muitas categorias vamos agrupar os tipos de propriedade com menos de 500 observações em uma categoria denominada \"outros\""
   ]
  },
  {
   "cell_type": "code",
   "execution_count": 50,
   "id": "91d98708",
   "metadata": {},
   "outputs": [
    {
     "data": {
      "image/png": "[encoded data removed]",
      "text/plain": [
       "<Figure size 1080x360 with 1 Axes>"
      ]
     },
     "metadata": {
      "needs_background": "light"
     },
     "output_type": "display_data"
    }
   ],
   "source": [
    "tabela_tipos_casa = base_airbnb_trat['property_type'].value_counts()\n",
    "# print(tabela_tipos_casa)\n",
    "\n",
    "colunas_agrupar = []\n",
    "\n",
    "for tipo in tabela_tipos_casa.index:\n",
    "    if tabela_tipos_casa[tipo] < 500:\n",
    "        colunas_agrupar.append(tipo)\n",
    "# print(colunas_agrupar)\n",
    "\n",
    "for tipo in colunas_agrupar:\n",
    "    base_airbnb_trat.loc[base_airbnb_trat['property_type']==tipo, 'property_type'] = 'Outros'\n",
    "    \n",
    "# print(base_airbnb_trat['property_type'].value_counts())\n",
    "plt.figure(figsize=(15, 5))\n",
    "grafico = sns.countplot(x='property_type', data=base_airbnb_trat, order = base_airbnb_trat['property_type'].value_counts().index)\n",
    "grafico.tick_params(axis='x', rotation=90)"
   ]
  },
  {
   "cell_type": "markdown",
   "id": "9bf26d01",
   "metadata": {},
   "source": [
    "### - amenities\n",
    "\n",
    "A coluna que descreve as comodidade possui descrições diversas separadas por vírgula e neste caso contaremos as comodidades."
   ]
  },
  {
   "cell_type": "code",
   "execution_count": 57,
   "id": "20219c77",
   "metadata": {},
   "outputs": [
    {
     "name": "stdout",
     "output_type": "stream",
     "text": [
      "['[\"Hangers\"', ' \"Oven\"', ' \"Iron\"', ' \"Microwave\"', ' \"Kitchen\"', ' \"Fire extinguisher\"', ' \"Bed linens\"', ' \"Bathtub\"', ' \"Wifi\"', ' \"Essentials\"', ' \"Dishes and silverware\"', ' \"Free parking on premises\"', ' \"First aid kit\"', ' \"Long term stays allowed\"', ' \"Extra pillows and blankets\"', ' \"Hair dryer\"', ' \"High chair\"', ' \"Refrigerator\"', ' \"Coffee maker\"', ' \"Baby bath\"', ' \"Patio or balcony\"', ' \"Stove\"', ' \"Pack \\\\u2019n play/Travel crib\"', ' \"Host greets you\"', ' \"Luggage dropoff allowed\"', ' \"Hot water\"', ' \"Free street parking\"', ' \"Washer\"', ' \"Cooking basics\"', ' \"BBQ grill\"', ' \"Pool\"', ' \"TV\"', ' \"Baby safety gates\"', ' \"Backyard\"', ' \"Crib\"]']\n",
      "35\n"
     ]
    }
   ],
   "source": [
    "print(base_airbnb_trat['amenities'].iloc[1].split(','))\n",
    "print(len(base_airbnb_trat['amenities'].iloc[1].split(',')))\n",
    "base_airbnb_trat['n_amenities'] = base_airbnb_trat['amenities'].str.split(',').apply(len)"
   ]
  },
  {
   "cell_type": "markdown",
   "id": "04adef0d",
   "metadata": {},
   "source": [
    "## Análise exploratória dos dados"
   ]
  },
  {
   "cell_type": "markdown",
   "id": "09b4f95e",
   "metadata": {},
   "source": [
    "### Análise dos outliers\n",
    "\n",
    "Na seção a seguir vamos analisar a distribuição das variáveis númericas e identificar outliers."
   ]
  },
  {
   "cell_type": "markdown",
   "id": "9ba74595",
   "metadata": {},
   "source": [
    "### Definição de funções\n",
    "\n",
    "Vamos definir algumas funções para ajudar na análise de outliers das colunas."
   ]
  },
  {
   "cell_type": "code",
   "execution_count": 126,
   "id": "4ed8f18d",
   "metadata": {},
   "outputs": [],
   "source": [
    "# Função para cálculo dos limites mínimos e máximos a partir dos quais o valor observado é considerado outlier.\n",
    "\n",
    "def limites(coluna):\n",
    "    q1 = coluna.quantile(0.25)\n",
    "    q3 = coluna.quantile(0.75)\n",
    "    amplitude = q3 - q1\n",
    "    return q1 - 1.5 * amplitude, q3 + 1.5 * amplitude\n",
    "\n",
    "# Função para exclusão dos outliers para ser utilizada no caso da decisão de exclusão destas observações.\n",
    "\n",
    "def excluir_outliers(df, nome_coluna):\n",
    "    qtde_linhas = df.shape[0]\n",
    "    lim_inf, lim_sup = limites(df[nome_coluna])\n",
    "    df = df.loc[(df[nome_coluna] >= lim_inf) & (df[nome_coluna] <= lim_sup), :]\n",
    "    linhas_removidas = qtde_linhas - df.shape[0]\n",
    "    return df,  linhas_removidas\n",
    "\n",
    "# Função para contar outliers\n",
    "\n",
    "def cont_outliers (df, coluna):\n",
    "    lim_inf, lim_sup = limites(df[coluna])\n",
    "    qtd_outliers=df.loc[(df[coluna] < lim_inf) | (df[coluna] > lim_sup), :].shape[0]\n",
    "    return df, qtd_outliers\n",
    "\n",
    "# Função para construção do Boxplot com e sem outliers\n",
    "\n",
    "def diagrama_caixa(coluna):\n",
    "    fig, (ax1, ax2)=plt.subplots(1,2)\n",
    "    fig.set_size_inches(17,5)\n",
    "    sns.boxplot(x=coluna, ax=ax1).set_title('BoxPlot')\n",
    "    sns.boxplot(x=coluna, ax=ax2, showfliers=False).set_title('BoxPlot - Sem Outliers')\n",
    "\n",
    "# Função para construção do Histograma\n",
    "    \n",
    "def histograma(coluna):\n",
    "    plt.figure(figsize=(16, 5))\n",
    "    sns.histplot(coluna).set_title('Histograma')   "
   ]
  },
  {
   "cell_type": "markdown",
   "id": "b60192fe",
   "metadata": {},
   "source": [
    "### - price\n",
    "\n",
    "Mais de 92% das observações possuem o preço inferior a 183.0.\n",
    "\n",
    "Há propriedades cuja locação de dá por valor significavamente superior, chegando até 11,799.0. \n",
    "\n",
    "Nosso objetivo não passar por tentar modelar propriedades de luxo e com perfil tão peculiar e por isso vamos ignorar os outliers de preço."
   ]
  },
  {
   "cell_type": "code",
   "execution_count": 130,
   "id": "2bccee02",
   "metadata": {},
   "outputs": [
    {
     "name": "stdout",
     "output_type": "stream",
     "text": [
      "(-33.0, 183.0)\n",
      "O preço máximo observado é 11799.0\n",
      "A quantidade de outliers é 3391, ou seja 7.71% dos dados\n"
     ]
    },
    {
     "data": {
      "image/png": "[encoded data removed]",
      "text/plain": [
       "<Figure size 1224x360 with 2 Axes>"
      ]
     },
     "metadata": {
      "needs_background": "light"
     },
     "output_type": "display_data"
    },
    {
     "data": {
      "image/png": "[encoded data removed]",
      "text/plain": [
       "<Figure size 1152x360 with 1 Axes>"
      ]
     },
     "metadata": {
      "needs_background": "light"
     },
     "output_type": "display_data"
    }
   ],
   "source": [
    "print(limites(base_airbnb_trat['price']))\n",
    "\n",
    "diagrama_caixa(base_airbnb_trat['price'])\n",
    "\n",
    "histograma(base_airbnb_trat['price'])\n",
    "\n",
    "base_airbnb, qtd_outliers = cont_outliers(base_airbnb_trat,'price')\n",
    "\n",
    "qtd_outliers=base_airbnb_trat.loc[(base_airbnb_trat['price'] < lim_inf) | (base_airbnb_trat['price'] > lim_sup), :].shape[0]\n",
    "\n",
    "prop_outliers=qtd_outliers/base_airbnb_trat.shape[0]\n",
    "\n",
    "max_price=base_airbnb_trat['price'].max()\n",
    "\n",
    "print('O preço máximo observado é {}'.format(max_price))\n",
    "\n",
    "print('A quantidade de outliers é {}, ou seja {:.2%} dos dados'.format(qtd_outliers, prop_outliers))\n"
   ]
  },
  {
   "cell_type": "markdown",
   "id": "b5fb190f",
   "metadata": {},
   "source": [
    "Excluindo as observações cujos valores da variável 'price' são outliers."
   ]
  },
  {
   "cell_type": "code",
   "execution_count": 133,
   "id": "c131fe03",
   "metadata": {},
   "outputs": [
    {
     "name": "stdout",
     "output_type": "stream",
     "text": [
      "3391 linhas removidas\n"
     ]
    }
   ],
   "source": [
    "base_airbnb_trat, linhas_removidas = excluir_outliers(base_airbnb_trat, 'price')\n",
    "print('{} linhas removidas'.format(linhas_removidas))"
   ]
  },
  {
   "cell_type": "code",
   "execution_count": 134,
   "id": "d4de31c8",
   "metadata": {},
   "outputs": [
    {
     "data": {
      "image/png": "[encoded data removed]",
      "text/plain": [
       "<Figure size 1152x360 with 1 Axes>"
      ]
     },
     "metadata": {
      "needs_background": "light"
     },
     "output_type": "display_data"
    }
   ],
   "source": [
    "histograma(base_airbnb_trat['price'])"
   ]
  },
  {
   "cell_type": "code",
   "execution_count": null,
   "id": "14755305",
   "metadata": {},
   "outputs": [],
   "source": [
    "Com a remoção dos outliers, temos ainda uma calda pesada à direita, mas muito mais suave que a antes."
   ]
  },
  {
   "cell_type": "markdown",
   "id": "3c22f537",
   "metadata": {},
   "source": [
    "### - n_amenities\n",
    "\n",
    "Como podemos observar a seguir, pouco mais de 1% das observações contém outliers e a remoção dos outliers torna a distribuição dos dados pouco mais simétrica e por esta razão optamos pela exclusão das 447 observações."
   ]
  },
  {
   "cell_type": "code",
   "execution_count": 118,
   "id": "d477f7e2",
   "metadata": {},
   "outputs": [
    {
     "name": "stdout",
     "output_type": "stream",
     "text": [
      "(-5.0, 59.0)\n",
      "A quantidade de outliers é 447, ou seja 1.02% dos dados\n"
     ]
    },
    {
     "data": {
      "image/png": "[encoded data removed]",
      "text/plain": [
       "<Figure size 1224x360 with 2 Axes>"
      ]
     },
     "metadata": {
      "needs_background": "light"
     },
     "output_type": "display_data"
    },
    {
     "data": {
      "image/png": "[encoded data removed]",
      "text/plain": [
       "<Figure size 1080x360 with 1 Axes>"
      ]
     },
     "metadata": {
      "needs_background": "light"
     },
     "output_type": "display_data"
    }
   ],
   "source": [
    "print(limites(base_airbnb_trat['n_amenities']))\n",
    "diagrama_caixa(base_airbnb_trat['n_amenities'])\n",
    "histograma(base_airbnb_trat['n_amenities'])\n",
    "lim_inf, lim_sup = limites(base_airbnb_trat['n_amenities'])\n",
    "qtd_outliers=base_airbnb_trat.loc[(base_airbnb_trat['n_amenities'] < lim_inf) | (base_airbnb_trat['n_amenities'] > lim_sup), :].shape[0]\n",
    "prop_outliers=qtd_outliers/base_airbnb_trat.shape[0]\n",
    "print('A quantidade de outliers é {}, ou seja {:.2%} dos dados'.format(qtd_outliers, prop_outliers))"
   ]
  }
 ],
 "metadata": {
  "kernelspec": {
   "display_name": "Python 3 (ipykernel)",
   "language": "python",
   "name": "python3"
  },
  "language_info": {
   "codemirror_mode": {
    "name": "ipython",
    "version": 3
   },
   "file_extension": ".py",
   "mimetype": "text/x-python",
   "name": "python",
   "nbconvert_exporter": "python",
   "pygments_lexer": "ipython3",
   "version": "3.9.7"
  }
 },
 "nbformat": 4,
 "nbformat_minor": 5
}
